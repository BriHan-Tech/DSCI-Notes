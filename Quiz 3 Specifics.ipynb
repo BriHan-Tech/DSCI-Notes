{
 "cells": [
  {
   "cell_type": "markdown",
   "id": "acf37c11-9d2d-42a5-aca5-fa050ec0c2f6",
   "metadata": {},
   "source": [
    "# Quiz 3 Specifics"
   ]
  },
  {
   "cell_type": "markdown",
   "id": "100e0f8a-fe43-439d-8663-feff2fcc5ba3",
   "metadata": {},
   "source": [
    "## Clustering"
   ]
  },
  {
   "cell_type": "markdown",
   "id": "4948b530-b700-4ef6-901d-129488af4ea8",
   "metadata": {},
   "source": [
    "### Describe in your words, K-Means Clustering"
   ]
  },
  {
   "cell_type": "markdown",
   "id": "30429194-223a-4cfe-8681-d4a0ef99dd40",
   "metadata": {},
   "source": [
    "K-means clustering is an unsupervised ML algorithm that partitions data into k clusters. It works by iteratively assigning each data point to the cluster whose center is closest, then updating the center of each cluster based on the data points assigned to it until the cluster assignments no longer change. "
   ]
  },
  {
   "cell_type": "markdown",
   "id": "fb9b4165-f3da-496a-9985-f75306bce495",
   "metadata": {},
   "source": [
    "### Give an example of when to use clustering, the variables that are used, and what insight is brought from the data."
   ]
  },
  {
   "cell_type": "markdown",
   "id": "8dbb18d5-97a4-4e7a-976c-5726046999f5",
   "metadata": {},
   "source": [
    "Clustering can be used to recommend songs to listeners. This can be done by having a clustering algorithm take variables like genre, artist, length, lyrics, melody, key signature, etc., to group songs into different clusters (columns would be the variables like genre, artist, etc., and the rows would contain songs). If the user shows a preference for songs in a cluster, we can recommend the user more songs in that cluster."
   ]
  },
  {
   "cell_type": "markdown",
   "id": "69e124a6-6e3d-4916-9ea4-627bee3d7710",
   "metadata": {
    "tags": []
   },
   "source": [
    "### Arguments against Scaling Our Variables?"
   ]
  },
  {
   "cell_type": "markdown",
   "id": "914d032c-e1c9-426e-b472-18e43813b260",
   "metadata": {},
   "source": [
    "***If the variables are very close in size (look at the axis scales - where it starts and where it ends).***\n",
    "\n",
    "We should not scale our variables for the cluster. This is because the difference of 1 for our x variable is 'equivalent' to a difference of 1 for our y variable. In fact, scaling the data is bad for the dataset beause (1) takes unnecessary computation power (2) ruins the interpretable plot axes."
   ]
  },
  {
   "cell_type": "markdown",
   "id": "ea243a83-967d-4b86-b35b-702f1ae54b8b",
   "metadata": {},
   "source": [
    "### What is Bad Clustering? And Why does it occur?"
   ]
  },
  {
   "cell_type": "markdown",
   "id": "c779e723-5b90-415f-8796-6e1f8874b8f6",
   "metadata": {},
   "source": [
    "Bad clustering happens because of the random selection of points which can cause the K-means algorithm to get stuck on a bad initialization and the clusters cannot be subdivided further. To counter this, we use the ```nstart``` argument in the kmeans function. ```nstart``` tells R how many times to run the K-means algorithm using different random starts, and returns the best one."
   ]
  },
  {
   "cell_type": "markdown",
   "id": "c313de8f-461a-4f4c-be6d-0519c97c2d69",
   "metadata": {},
   "source": [
    "### Why do the Kmeans return vary? What is the solution?"
   ]
  },
  {
   "cell_type": "markdown",
   "id": "39fe3307-e337-4698-9729-e9c6fa4c27fd",
   "metadata": {},
   "source": [
    "The Kmeans algorithm starts by randomly assigning points to different clusters; therefore, the output of the algorithm can vary each time. The solution to the problem is to use the ```nstart``` argument in the kmeans function. ```nstart``` tells R how many times to run the Kmeans algorithm using different random starts, and returns the best one."
   ]
  },
  {
   "cell_type": "markdown",
   "id": "b0d18d00-c49e-4aa1-aeae-517e654682c0",
   "metadata": {},
   "source": [
    "### What value of K did you choose and why?"
   ]
  },
  {
   "cell_type": "markdown",
   "id": "fc43851a-0224-493d-91c0-fb1c0e810e38",
   "metadata": {},
   "source": [
    "Based on the elbow plot above, I chose ___ as my value of k. This is because there is an 'elbow' at ___ (recognized by: how the decreases in total within sum of squares isn't as large for each increase in number of clusters after this point). The elbow tells us that if we choose K smaller than __ , then the clustering will merge separates groups of data, while if we set K larger than ___ , the clustering subdivides subgroups of data."
   ]
  },
  {
   "cell_type": "markdown",
   "id": "3239ba1f-c618-4cdc-af11-c25fc9c63ff4",
   "metadata": {},
   "source": [
    "### What do the Cluster means output mean?"
   ]
  },
  {
   "cell_type": "markdown",
   "id": "ea3b9fe1-226f-49b1-bfb9-b5e52908b33f",
   "metadata": {},
   "source": [
    "Using the cluster means output we can clearly see a separation of the data. We can see that there are ___ clusters since the data can be categorized into ___ distinct groups. Using the cluster menas output we would be able to categorize the different clusters. For instance, we can categorize them as small, medium, and large."
   ]
  },
  {
   "cell_type": "markdown",
   "id": "d0873a37-85e1-4d68-95ba-fbf7ff5304df",
   "metadata": {},
   "source": [
    "### Which categories are driving the clustering?"
   ]
  },
  {
   "cell_type": "markdown",
   "id": "934492aa-218c-4013-91aa-5c5133d78f2e",
   "metadata": {},
   "source": [
    "The categories where the variables in it differ from each other the most are the ones that drive the clustering."
   ]
  },
  {
   "cell_type": "markdown",
   "id": "034587e0-ef89-44b0-be76-37de5167e5e7",
   "metadata": {},
   "source": [
    "### What is a disadvantage of not being able to visualize the clusters when dealing with multidimensional data?"
   ]
  },
  {
   "cell_type": "markdown",
   "id": "1045f958-c677-4e93-97f1-1f5444221a2a",
   "metadata": {},
   "source": [
    "Though we have numbers and can put points into the algorithm, for the algorithm to classify the points as either one or the other cluster, not being able to visualize the clusters means that we are unable to intuitively understand where the algorithm 'drew the line' to separate each of the clusters, additionally, it will be harder to assess how are model is doing. We can try displaying the points relative to cluster means, and isolate predictors to try and piece together the multidimensional data; however, it is not the same as drawing a line in a 2D cluster and easily visualizing how points are divided into the clusters."
   ]
  },
  {
   "cell_type": "markdown",
   "id": "bdaf053c-fe62-445e-8235-f63d6ab134f7",
   "metadata": {},
   "source": [
    "## Inference"
   ]
  },
  {
   "cell_type": "markdown",
   "id": "b17cf051-654b-4bc9-9891-d97dc4c84b00",
   "metadata": {},
   "source": [
    "### What does the sampling distribution of sample means tell us?"
   ]
  },
  {
   "cell_type": "markdown",
   "id": "312a5d00-6a86-453f-80c5-dafeea5b9215",
   "metadata": {},
   "source": [
    "The sampling distribution of sample means comes from repeatedly taking samples from the population and calculating point estimates from those samples and plotting the point estimates in a histogram. This distribution tells us that if we were to draw a sample of size ___ from the population, we can expect the sample mean to be between ___ and ___ . Additioanlly, it also allows us to estimate the population parameter (the center of the sampling distribution)."
   ]
  },
  {
   "cell_type": "markdown",
   "id": "e6c9db03-69c7-41e4-bbee-2271bfb1d7a0",
   "metadata": {},
   "source": [
    "### When we take larger sample sizes, why does the distribution of sample means decrease?"
   ]
  },
  {
   "cell_type": "markdown",
   "id": "eae69700-34df-43e1-9a6d-f2abda8426a4",
   "metadata": {},
   "source": [
    "When we take larger sample sizes, the outliers would make less of an effect on each point estimate. So, with less variety in point estimates, the distribution of sample means would decrease. This is known as the \"central limit theorem\", which states that as sample size increases, the distribtuionfof the sample means becomes more normal, regardless of the shape of the original population distribution."
   ]
  },
  {
   "cell_type": "markdown",
   "id": "bb88646b-1d2a-4a41-8c7b-bb2bcf2a1552",
   "metadata": {},
   "source": [
    "### What is Bootstrapping used for?"
   ]
  },
  {
   "cell_type": "markdown",
   "id": "9ef5a609-9c98-4380-9e69-1db3ea83f155",
   "metadata": {},
   "source": [
    "Bootstrapping allows us to estimate the effects of sampling variation when we only have a single sample to work with. It not only gives us a single estimate of the unknown population parameter, but also a range of highly plausible values."
   ]
  },
  {
   "cell_type": "markdown",
   "id": "8664ea95-dcc0-4923-bb99-330d07f106da",
   "metadata": {},
   "source": [
    "### Describing a Distribution"
   ]
  },
  {
   "cell_type": "markdown",
   "id": "1d572282-44a4-44a9-a07a-94aa8c22a497",
   "metadata": {},
   "source": [
    "**NOTE: Be sure you are sure about what your distribution is describing. Is it describing the sample? Or the sample means?**\n",
    "\n",
    "The distribution is (bell-shaped, symmetric, skewed right, skewed left) with __ peak(s) in the middle centered at about * . * ranged from just over ___ to just under ___ but most ___ got between ___ to ___.\n",
    "\n",
    "> The distribution is bell-shaped, symmetric, with one large peak in the middle centered at about 70 percent. Students' scores ranged from just over 40 to just under 100% but most students got between about 60 to 80%.\n",
    "\n",
    "> The distribution is not symmetric (specifically its right skewed), with one large peak on the left side of the distribution. Most students drink a small (0, 1, or 2) cups of coffee per week. Though there is a long tail on the right side with some students drinking as many as 20 cups per week. The range of the distribution is between 0 and 20."
   ]
  },
  {
   "cell_type": "markdown",
   "id": "e6828957-9e60-4d39-bc6e-e97fc071afae",
   "metadata": {},
   "source": [
    "### Why do we need to draw observations from the original sample with replacement?"
   ]
  },
  {
   "cell_type": "markdown",
   "id": "1a321def-1574-4e02-880b-84a2b8525f1a",
   "metadata": {},
   "source": [
    "Drawing observations with replacement allows us to create a new sample representative of the original sample. Drawing with replacement means that once we record the values of that observation, we return it back to the \"pile\" of data. So it's possible for you to pick the same observation twice.\n",
    "\n",
    "For instance, if we had a sample of size n and obtained a bootstrap sample from it of size n without replacement, it will just return our original sample."
   ]
  },
  {
   "cell_type": "markdown",
   "id": "603bb6f7-82ec-4244-8339-aca7d215f500",
   "metadata": {},
   "source": [
    "### In your own words describe what a Point Estimate is"
   ]
  },
  {
   "cell_type": "markdown",
   "id": "a55e3696-167a-49d1-8987-0e5d61e301e0",
   "metadata": {},
   "source": [
    "A point estimate is an estimate about a populations parameter from a sample. If, for instance, we want to know the mean age of everyone in a city, it would be really inefficient to go around asking for everyone's age. Instead, we can get a simple random sample, and estimate the true mean of the population using a point estimate."
   ]
  },
  {
   "cell_type": "markdown",
   "id": "e10d4b22-25af-4d7e-8ba2-8c8faef43a33",
   "metadata": {},
   "source": [
    "### In your own words explain what a sampling distribution of sample means is in your words."
   ]
  },
  {
   "cell_type": "markdown",
   "id": "cc3b2a1e-24fe-40ff-9d7c-e41e051d2b95",
   "metadata": {},
   "source": [
    "A collection of sample means that were calculated from taking many different samples from the population. These means, then, can be displayed on a graph to show the distribution of sample means."
   ]
  },
  {
   "cell_type": "markdown",
   "id": "b7c3f12f-de35-4323-b219-0a4e85c566a5",
   "metadata": {},
   "source": [
    "### Describe in your words, what a bootstrap distribution is"
   ]
  },
  {
   "cell_type": "markdown",
   "id": "07c29674-84a5-48f4-b75f-6ea655e8f551",
   "metadata": {},
   "source": [
    "A bootstrap distribution is an approximation or \"simulation\" of a sampling distribution. It is created by repeatedly taking random samples from one sample that is taken from the population."
   ]
  },
  {
   "cell_type": "markdown",
   "id": "e07236cc-1b1f-4392-a92e-185eca74a3d2",
   "metadata": {},
   "source": [
    "### What does a confidence interval tell us?"
   ]
  },
  {
   "cell_type": "markdown",
   "id": "c98bc469-a472-4e0b-b416-25e90fcebda3",
   "metadata": {},
   "source": [
    "A confidence interval means that if we took 100 random samples and calculated 100 ___ confidence intervals, then about ___ of the ranges would capture the population parameter's value. Another way to word it is: across ___ confidence intervals that could be calculated for the ___ of the population, we can expect that ___ of the intervals contain the true mean."
   ]
  },
  {
   "cell_type": "code",
   "execution_count": null,
   "id": "098ca8ae-dba2-46c8-85df-534e4d4dee4e",
   "metadata": {},
   "outputs": [],
   "source": []
  }
 ],
 "metadata": {
  "kernelspec": {
   "display_name": "R",
   "language": "R",
   "name": "ir"
  },
  "language_info": {
   "name": ""
  }
 },
 "nbformat": 4,
 "nbformat_minor": 5
}
