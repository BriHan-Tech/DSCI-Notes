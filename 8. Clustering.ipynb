{
 "cells": [
  {
   "cell_type": "markdown",
   "id": "ad8332bc-101a-44c0-8ee3-993d37f96908",
   "metadata": {},
   "source": [
    "# Clustering (Unsupervised Learning)"
   ]
  },
  {
   "cell_type": "markdown",
   "id": "6008762d-1d4e-41e2-ac7b-eb89e22e50fa",
   "metadata": {
    "tags": []
   },
   "source": [
    "## Overview of Clustering with K-Means"
   ]
  },
  {
   "cell_type": "markdown",
   "id": "1cf68653-19df-42a4-9157-adf260709069",
   "metadata": {},
   "source": [
    "### Overview of Functions"
   ]
  },
  {
   "cell_type": "markdown",
   "id": "5d9cb408-f94a-4983-809b-0fa68154aee4",
   "metadata": {},
   "source": [
    "- ```mutate(df, across(everything(), function))```\n",
    "    - Allows us to apply a transformation to each column.\n",
    "    - 2nd argument requires the ```across()``` function which makes it easy to apply the same transformation to multiple columns, allowing you to use ```select()``` semantics inside in \"data-masking\" functions like ```summarise()``` and ```mutate()```.\n",
    "        - 1st argument requires the ```everything()``` function which selects all variables.\n",
    "        - Requires the sepcific function applied to each column of the dataframe.\n",
    "- ```rowwise()```\n",
    "    - Creates special type of grouping where each group consists of a single row.\n",
    "- ```kmeans(scaled_df, nstart = ..., centers = ...)```\n",
    "    - 1st argument requires the scaled dataframe.\n",
    "    - ```nstart``` specifies the number of restarts to counter the bad starts in clustering.\n",
    "    - center specifies the number of clusters.\n",
    "- ```augment(kmeans_object, original_data)```\n",
    "    - takes in the model and the original dataframe, and returns a data frame with the data and the cluster assignemnts for each point.\n",
    "    - helps identify different clusters.\n",
    "- ```glance(kmeans_object)```\n",
    "    - obtains clustering statistics (including WSSD) for the K-menas clustering object.\n",
    "    - can be nested int he ```map()``` function to obtain clustering statistics for each kmeans object.\n",
    "- ```unnest(glanced)```\n",
    "    - unpacksdataframe into simpler column data frames.\n",
    "    - used because clustering statistics are put in a dataframe."
   ]
  },
  {
   "cell_type": "markdown",
   "id": "35f3e119-f79e-4752-83c9-305072312c40",
   "metadata": {
    "tags": []
   },
   "source": [
    "### Overview & Error Calculations"
   ]
  },
  {
   "cell_type": "markdown",
   "id": "c7ca99b4-282b-4ae8-9917-758f195e2727",
   "metadata": {
    "tags": []
   },
   "source": [
    "The K-means algorithm groups data into K clusters. It starts with an initial clustering of the data, and then iteratively improves it by making adjustments to the assignment of data to clusters until it cannot improve any further.\n",
    "\n",
    "We measure the quality of the cluster by its ***within-cluster sum-of-squared-distances (WSSD)***. This computation involves 2 steps. *NOTE: WSSD and $S^2$ are used interchangeably.*\n",
    "1. We find the cluster centers by computing the mean of each variable over data points in the cluster. \n",
    "2. Add up the squared distance between each point in the cluster and the cluster center. (This is done using euclidean distance formula: $\\text{Distance} = \\sqrt((a_x-b_x)^2+(a_y-b_y)^2)$).\n",
    "\n",
    "<html>\n",
    "<div style=\"display:flex; flex-direction:row;\">\n",
    "    <div>\n",
    "        <h4>Step 1</h4>\n",
    "        <img src=\"media/wssd-1-1.png\">\n",
    "        <img src=\"media/wssd-1-2.png\">\n",
    "    </div>\n",
    "    <div>\n",
    "        <h4>Step 2</h4>\n",
    "        <img src=\"media/wssd-2-1.png\">\n",
    "        <img src=\"media/wssd-2-2.png\">\n",
    "    </div>\n",
    "</div>\n",
    "</html>\n",
    "\n",
    "Then, the larger the value $S^2$, the more spread out the cluster is. (Large $S^2$ means that poitns are far from the cluster center). Notably, \"large\" is relative to ***both the scale of the variables for clustering and the number of points in the cluster***.\n",
    "\n",
    "After calculating WSSD, we sum them together to get the *total WSSD*.\n",
    "\n",
    "<img src=\"media/total_wssd.png\" width=\"300px\">"
   ]
  },
  {
   "cell_type": "markdown",
   "id": "d8212ec2-5405-4b37-be71-01a7e9de97aa",
   "metadata": {
    "tags": []
   },
   "source": [
    "### Clustering Algorithm"
   ]
  },
  {
   "cell_type": "markdown",
   "id": "44512db1-fd06-4a3e-bcba-1b2bbd8154c1",
   "metadata": {},
   "source": [
    "We start by picking K, and randomly assigning a roughly equal number of observations to each of the K clusters.\n",
    "\n",
    "K-means does two steps to minimize the total WSSD:\n",
    "1. **Center Update**: Compute the center of each cluster.\n",
    "2. **Label Update**: Reassign each data point to the cluster with the nearest center.\n",
    "\n",
    "The two steps are repeated until the cluster assignments no longer change.\n",
    "\n",
    "<img src=\"media/clustering-algorithm.png\" width=\"400px\">"
   ]
  },
  {
   "cell_type": "markdown",
   "id": "41f736a4-f8ad-4216-a9ed-9c61d814f016",
   "metadata": {},
   "source": [
    "### Random Starts"
   ]
  },
  {
   "cell_type": "markdown",
   "id": "307c2650-543c-439b-b6c2-0a1f310d9618",
   "metadata": {},
   "source": [
    "K-means can get \"stuck\" in a bad solution.\n",
    "\n",
    "<img src=\"media/k_means_stuck.png\" width=\"400px\">\n",
    "\n",
    "To solve this problem with clustering, we should randomly re-initialize the labels a few times, run K-means for each initialization, and pick the clustering data that has the lowest final total WSSD."
   ]
  },
  {
   "cell_type": "markdown",
   "id": "782b43dc-a54c-42a0-8c8a-40bfb97ea1ac",
   "metadata": {},
   "source": [
    "### Choosing K"
   ]
  },
  {
   "cell_type": "markdown",
   "id": "0e45955f-632b-4207-8580-c85d1ba56cba",
   "metadata": {},
   "source": [
    "We perform clustering for a variety of possible \n",
    "\n",
    "- If K is chosen too small, then multiple clusters would get grouped together (large WSSD)\n",
    "- If K is chosen too large, then clusters will get subdivided (decreases WSSD by a diminishing amount)\n",
    "\n",
    "<img src=\"media/total_wssd_vs_no_clusters.png\" width=\"300px\">"
   ]
  },
  {
   "cell_type": "markdown",
   "id": "3ae5da3b-a4fe-4d39-a2ba-ca0c2a829a30",
   "metadata": {
    "tags": []
   },
   "source": [
    "## Data Pre-Processing for K-Means"
   ]
  },
  {
   "cell_type": "markdown",
   "id": "f7399da8-fa57-4fcf-963d-c126a0046429",
   "metadata": {},
   "source": [
    "Because K-means clustering uses straight-line distance to decide which points are similar to each other. Therefore, it is very important to scale the variables.\n",
    "\n",
    "We standardize our data before clustering, which ensures that each variable has a ***mean of 0 and standard deviation of 1***. The ```scale``` function in R can be used to do this.\n",
    "\n",
    "\n",
    "```r\n",
    "standardized_data <- not_standardized_data %>%\n",
    "                     mutate(across(everything(), scale))\n",
    "```"
   ]
  },
  {
   "cell_type": "markdown",
   "id": "ffb0578e-f8cf-4a2a-99d6-65d396c4d2a1",
   "metadata": {
    "tags": []
   },
   "source": [
    "## Performing K-Means in R"
   ]
  },
  {
   "cell_type": "markdown",
   "id": "d0d3f1a5-25b2-4523-9b13-9894064d1663",
   "metadata": {},
   "source": [
    "We use the ```kmeans``` function to perform Kmeans clustering:\n",
    "\n",
    "```r\n",
    "penguin_clust <- kmeans(standardized_data, centers = 3)\n",
    "```\n",
    "<img src=\"media/kmean_returned.png\" width=\"300px\">\n",
    "\n",
    "The data returned has a lot of information that can be used to 1) visualize cluster, 2) pick K, 3) evaluate the total WSSD.\n",
    "\n",
    "Using the ```broom``` package we can get the data in a tidy format.\n",
    "\n",
    "```r\n",
    "library(broom)\n",
    "clusted_data <- augment(penguin_clust, standardized_data)\n",
    "```\n",
    "\n",
    "> The ```augment``` function takes the standardized data, and adds a 'cluster' column which ```augment``` interpretted from what ```kmeans``` returns.\n",
    "\n",
    "<img src=\"media/broom_cleaned_cluster.png\" width=\"300px\">"
   ]
  },
  {
   "cell_type": "markdown",
   "id": "1c535ea4-be2a-4402-8f75-2477e814051b",
   "metadata": {
    "tags": []
   },
   "source": [
    "### Visualize Cluster"
   ]
  },
  {
   "cell_type": "markdown",
   "id": "4c40c09e-a1bb-448d-86f9-82c6fd28436b",
   "metadata": {},
   "source": [
    "Now, we can make a visualization of the cluster assignments for each point.\n",
    "\n",
    "```r\n",
    "cluster_plot <- cluster_data %>%\n",
    "                ggplot(aes(x = flipper_length_mm, y = bill_length_mm, color = .cluster), size = 2) +\n",
    "                    geom_point() +\n",
    "                    labs(x = \"Flipper Length (standardized)\", \n",
    "                         y = \"Bill Length (standardized)\", \n",
    "                         color = \"Cluster\") + \n",
    "                scale_color_manual(values = c(\"dodgerblue3\", \"darkorange3\", \"goldenrod1\")) + \n",
    "                theme(text = element_text(size = 12))\n",
    "\n",
    "cluster_plot\n",
    "```\n",
    "\n",
    "<img src=\"media/cluster_visual.png\" width=\"300px\">"
   ]
  },
  {
   "cell_type": "markdown",
   "id": "f15b8f95-3a6f-44cd-9a85-888de09a211f",
   "metadata": {},
   "source": [
    "### Finding K (NOT Cross-Validation)"
   ]
  },
  {
   "cell_type": "markdown",
   "id": "25714489-3b27-4921-8323-b1740831cb35",
   "metadata": {},
   "source": [
    "We can use ```glance``` to find the total WSSD (```tot.withinss```) from our clustering using ```broom```'s ```glance``` function.\n",
    "\n",
    "```r\n",
    "glance(penguin_clust)\n",
    "```\n",
    "\n",
    "<img src=\"media/tot_withinss.png\" width=\"200px\">\n",
    "\n",
    "Then, we create a data frame with column K for all K values we want to test.\n",
    "```r\n",
    "penguin_clust_ks <- tibble(k = 1:9)\n",
    "```\n",
    "\n",
    "Then, we use ```rowwise``` + ```mutate``` to apply the kmeans function with each row to each K. However, given that the ```kmeans``` function returns a model object to us (not a vector), we will need to store the results in a list column.\n",
    "```r\n",
    "penguin_clusts_ks <- tibble(k = 1:9) %>%\n",
    "                      rowwise() %>%\n",
    "                      mutate(penguin_clusts = list(kmeans(standardized_data, k)))\n",
    "```\n",
    "\n",
    "Looking at the data frame ```penguin_clust_ks```, we see that it has two columns:\n",
    "\n",
    "<img src=\"media/penguin_clust_ks.png\" width=\"200px\">\n",
    "\n",
    "<br>\n",
    "\n",
    "> Using ```pull```, we can get a column in the data frame, then using ```pluck``` we can get the row value, ```kmeans``` data from our dataframe.\n",
    "> ```r\n",
    "> penguin_clusts_ks %>%\n",
    "> pull(penguin_clusts) %>%\n",
    "> pluck(1)   \n",
    "> ```\n",
    "\n",
    "<br>\n",
    "\n",
    "Next, we use ```mutate``` again to apply ```glance``` to each of the K-means clustering objects to get the clustering statistics (including WSSD). The output is a dataframe, so we need to create another list column. This results in a complex data frame with 3 columns, one for K, one for K-means, and one for the clustering statistics:\n",
    "```r\n",
    "penguin_clust_ks <- tibble(k = 1:9) %>%\n",
    "                    rowwise() %>%\n",
    "                    mutate(penguin_clusts = list(kmeans(standardized_data, k)),\n",
    "                           glanced = list(glance(penguin_clusts)))\n",
    "```\n",
    "\n",
    "<img src=\"media/penguin_clusts_ks.png\" width=\"300px\">\n",
    "\n",
    "Notably, each glanced object looks like this:\n",
    "\n",
    "<img src=\"media/glanced_object.png\" width=\"300px\">\n",
    "\n",
    "Given that each item in the list column is a data frame, we will need to use ```unnest``` function to unpack the data frames into simpler column data types.\n",
    "\n",
    "```r\n",
    "clustering_statistics <- penguin_clust_ks %>%\n",
    "                         unnest(glanced)\n",
    "```\n",
    "\n",
    "<img src=\"media/clustering_stats.png\" width=\"300px\">\n",
    "\n",
    "\n",
    "Now that we have the ```tot.withinss``` and ```k``` as columns in a data frame, we can make a line plot and search for the \"elbow\" to find whiich value of K to use.\n",
    "\n",
    "```r\n",
    "elbow_plot <- ggplot(clustering_statistics, aes(x = k, y = tot.withinss)) +\n",
    "                  geom_point() +\n",
    "                  geom_line() +\n",
    "                  xlab(\"K\") +\n",
    "                  ylab(\"Total within-cluster sum of squares\") +\n",
    "                  scale_x_continuous(breaks = 1:9) + \n",
    "                  theme(text = element_text(size = 12))\n",
    "```\n",
    "\n",
    "<img src=\"media/wssd_vs_k.png\" width=\"300px\">"
   ]
  },
  {
   "cell_type": "markdown",
   "id": "3ff712f6-cd17-40f1-9c56-3b8cffaf6cc9",
   "metadata": {},
   "source": [
    "# Bad Initialization"
   ]
  },
  {
   "cell_type": "markdown",
   "id": "221caf19-69f3-4fe9-b8f6-efad8935ec8f",
   "metadata": {},
   "source": [
    "Now, why did the WSSD increase for K = 8? This is because we had an unlucky initialization causing bad clustering. We use ```nstart``` to help prevent this. When we do this, K-means clustering will be performed the number of times specified by the ```nstart``` argument.\n",
    "\n",
    "```r\n",
    "penguin_clust_ks <- tibble(k = 1:9) |>\n",
    "                    rowwise() |>\n",
    "                    mutate(penguin_clusts = list(kmeans(standardized_data, nstart = 10, k)),\n",
    "                           glanced = list(glance(penguin_clusts)))\n",
    "\n",
    "clustering_statistics <- penguin_clust_ks |>\n",
    "                         unnest(glanced)\n",
    "\n",
    "elbow_plot <- ggplot(clustering_statistics, aes(x = k, y = tot.withinss)) +\n",
    "                     geom_point() +\n",
    "                     geom_line() +\n",
    "                     xlab(\"K\") +\n",
    "                     ylab(\"Total within-cluster sum of squares\") +\n",
    "                     scale_x_continuous(breaks = 1:9) + \n",
    "                     theme(text = element_text(size = 12))\n",
    "```\n",
    "\n",
    "<img src=\"media/tots_nstart.png\" width=\"300px\">"
   ]
  },
  {
   "cell_type": "code",
   "execution_count": null,
   "id": "dabca0d3-c1ed-4cfc-82fc-de9bc246c4fc",
   "metadata": {},
   "outputs": [],
   "source": []
  }
 ],
 "metadata": {
  "kernelspec": {
   "display_name": "R",
   "language": "R",
   "name": "ir"
  },
  "language_info": {
   "name": ""
  }
 },
 "nbformat": 4,
 "nbformat_minor": 5
}
