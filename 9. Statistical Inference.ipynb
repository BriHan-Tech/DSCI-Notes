{
 "cells": [
  {
   "cell_type": "markdown",
   "id": "c914f04b-2e5f-409a-a17e-a041f6379293",
   "metadata": {},
   "source": [
    "# Statistical Inference"
   ]
  },
  {
   "cell_type": "markdown",
   "id": "7667a9e1-5994-4467-8d1a-0710b6b242ad",
   "metadata": {},
   "source": [
    "## Terms"
   ]
  },
  {
   "cell_type": "markdown",
   "id": "34eee27b-0c15-4aae-a26c-74525a4a0fbc",
   "metadata": {},
   "source": [
    "**Statistical Inference** is the process of using a sample to make a conclusion about the broader population from which it is taken.\n",
    "\n",
    "- **Population** - Pool of individuals from which a statistical sample is drawn for a study.\n",
    "- **Population Parameter** - Data based on an entire popluation such as means, and standard deviations\n",
    "- **Sample** - Subset of individulas collected from the population\n",
    "- **Sample Estimate** - A numerical characteristic of the sample that estimates the population parameter.\n",
    "- **Point Estimate** - Estimating a single value from the sample\n",
    "- **Sampling Distribution** - A distribution of point estimates, where each point estimate was calculated from a different random sample from the same population.\n",
    "- **Confidence Interval** - A range of plausible values for the population parameter.\n",
    "- **Sample Variability** - Estimates vary from sample to sample due to sampling variability\n",
    "\n",
    "Different Types of Sampling\n",
    "- **Random Sampling** - Selecting a subset of observations from a population where each observation is equally likely to be selected at any point during the selection process\n",
    "- **Representative Sampling** - Selecting a subset of observations from a population where the sample’s characteristics are a good representation of the population’s characteristics\n",
    "\n",
    "Different Types of Parameters\n",
    "- **Variance** - The mean of the sum of the squared distances of each observation from the mean value of all observations.\n",
    "- **Standard Deviation** - The square root of the variance.\n",
    "\n",
    "We will be focussing on two types of statistical inference:\n",
    "1. Using categorical observations to estimate the proportion of a category.\n",
    "2. Using quantitative observations to estimate the average (or mean)"
   ]
  },
  {
   "cell_type": "markdown",
   "id": "28234d8c-5384-4c0c-936a-171d75ec3102",
   "metadata": {},
   "source": [
    "## Random Functions"
   ]
  },
  {
   "cell_type": "markdown",
   "id": "22d58fdb-533e-414f-b349-0e5032eb5ffe",
   "metadata": {},
   "source": [
    "```plot_grid``` can be used to plot sampling distributions side by side.\n",
    "```r\n",
    "sampling_distribution_panel <- plot_grid(sampling_distribution_20,\n",
    "                                         sampling_distribution,\n",
    "                                         sampling_distribution_100,\n",
    "                                         ncol = 3)\n",
    "```\n",
    "\n",
    "\n",
    "```summarize``` can be used to get parameters such as mean, median, and standard deviation. (Note whether the data is categorical or quantitative)\n",
    "```r\n",
    "sample_1_estimates <- sample_1 %>%\n",
    "                      summarize(\n",
    "                          sample_1_mean = mean(age),\n",
    "                          sample_1_med = median(age),\n",
    "                          sample_1_sd = sd(age)\n",
    "                      )\n",
    "```"
   ]
  },
  {
   "cell_type": "markdown",
   "id": "5299e86e-1681-485e-9447-dc34ff166ec8",
   "metadata": {},
   "source": [
    "## Sampling Distributions"
   ]
  },
  {
   "cell_type": "markdown",
   "id": "4903d140-111b-49e6-9d2a-85cc7033fb71",
   "metadata": {
    "jp-MarkdownHeadingCollapsed": true,
    "tags": []
   },
   "source": [
    "### Sampling Distribution for Categorical Variables (Proportions)"
   ]
  },
  {
   "cell_type": "markdown",
   "id": "a5a11386-88ee-4041-b8aa-8a82a0400898",
   "metadata": {},
   "source": [
    "Using ```summarize``` we can find the porportion of certain parameters.\n",
    "```r\n",
    "airbnb %>%\n",
    "summarize(\n",
    "    n = sum(room_type = \"Entire home/apt\"),\n",
    "    proportion = sum(room_type == \"Entire home/apt\") / nrow(airbnb)\n",
    ")\n",
    "```\n",
    "\n",
    "Instead of getting the population parameter, we can use a sample to approximate the proportion of rooms that are listed with room type \"Entire home/apt\". We can do this by using the ```rep_sample_n``` function from the ```infer``` package.\n",
    "\n",
    "```r\n",
    "library(infer)\n",
    "\n",
    "sample_1 <- rep_sample_n(tbl = airbnb, size = 40)\n",
    "\n",
    "airbnb_sample_1 <- summarize(sample_1,\n",
    "  n = sum(room_type == \"Entire home/apt\"),\n",
    "  prop = sum(room_type == \"Entire home/apt\") / 40\n",
    ")\n",
    "\n",
    "airbnb_sample_1\n",
    "```"
   ]
  },
  {
   "cell_type": "markdown",
   "id": "7537ac78-67c2-42f4-9a03-7cd337764c43",
   "metadata": {},
   "source": [
    "***PROBLEM:*** Estimates vary from sample to sample due to **sample variablility**.\n",
    "\n",
    "By getting the sampling distribution, we can see how much we would expect our sample proportions from this population to vary.\n",
    "\n",
    "```r\n",
    "samples <- rep_sample_n(airbnb, size = 40, reps = 20000)\n",
    "```\n",
    "Here, we get 20000 samples of size 40.\n",
    "- ```size = 40``` refers to each sample size\n",
    "- ```reps = 20000``` refers to the number of samples we are taking.\n",
    "\n",
    "This returns a tibble:\n",
    "\n",
    "<img src=\"media/replicate.png\" width=\"400px\">\n",
    "\n",
    "Notice that the ```replicate``` column indicates the replicate (sample) to which each listing belongs.\n",
    "\n",
    "Now, to calculate the proportions for each replicate (sample of 40)\n",
    "\n",
    "```r\n",
    "sample_estimates <- samples |>\n",
    "                    group_by(replicate) |>\n",
    "                    summarize(sample_proportion = sum(room_type == \"Entire home/apt\") / 40)\n",
    "```\n",
    "\n",
    "<img src=\"media/replicate_sample_estimates.png\" width=\"200px\">\n",
    "\n",
    "We can now visualize the distribution of the sample proportions for sample of size 40 using a histogram.\n",
    "```r\n",
    "sampling_distribution <- ggplot(sample_estimates, aes(x = sample_proportion)) +\n",
    "                             geom_histogram(fill = \"dodgerblue3\", color = \"lightgrey\", bins = 12) +\n",
    "                             labs(x = \"Sample proportions\", y = \"Count\") +\n",
    "                             theme(text = element_text(size = 12))\n",
    "```\n",
    "\n",
    "<img src=\"media/sample_distribution.png\" width=\"250px\">\n",
    "\n",
    "We can also get the mean of the sample proportions.\n",
    "```r\n",
    "sample_estimates |>\n",
    "  summarize(mean = mean(sample_proportion))\n",
    "```"
   ]
  },
  {
   "cell_type": "markdown",
   "id": "8fe48cfd-77e7-4162-9a9b-257750ba414f",
   "metadata": {},
   "source": [
    "### Sampling Distribution for Qualitative Variables (Means)"
   ]
  },
  {
   "cell_type": "markdown",
   "id": "4349b9ad-0cc6-431b-8135-bfac1091e286",
   "metadata": {},
   "source": [
    "```r\n",
    "samples <- rep_sample_n(airbnb, size = 40, reps = 20000)\n",
    "\n",
    "sample_estimates <- samples |>\n",
    "                    group_by(replicate) |>\n",
    "                    summarize(sample_mean = mean(price))\n",
    "                    \n",
    "sampling_distribution_40 <- ggplot(sample_estimates, aes(x = sample_mean)) +\n",
    "                                geom_histogram(fill = \"dodgerblue3\", color = \"lightgrey\") +\n",
    "                                labs(x = \"Sample mean price per night (Canadian dollars)\", y = \"Count\") +\n",
    "                                theme(text = element_text(size = 12))\n",
    "```"
   ]
  },
  {
   "cell_type": "markdown",
   "id": "480113eb-b6f4-49a7-8294-d42b4b6acb62",
   "metadata": {},
   "source": [
    "Comparing the Population distribution, distribution of the sample and the sampling distribution shows that the centers of the distributions are all around the same price ($150)\n",
    "\n",
    "<div style=\"display: flex; flex-direction: row; width: 1000px;\">\n",
    "    <ul >\n",
    "        <li>The original distribution is skewed right</li>\n",
    "        <li>The sample distribution has a similar shape</li>\n",
    "        <li>The sampling distribution is bell shaped and has lower spread than the population or sample distributions. The sample means vary less than the individual observations becuase there will be high and smal values which will keep the average from being too extreme.</li>\n",
    "    </ul>\n",
    "    <img src=\"media/distribution_comparisons.png\" width=\"200px\">\n",
    "</div>"
   ]
  },
  {
   "cell_type": "markdown",
   "id": "2d35cd26-701a-4ab1-bb57-915c90e1abe6",
   "metadata": {},
   "source": [
    "One way to improve the point estimate is to take a larger sample.\n",
    "\n",
    "<img src=\"media/sample_size_comparisons.png\" width=\"300px\">\n",
    "\n",
    "Notice:\n",
    "1. The mean of the sample mean (across samples) is equal to the population mean. (The sampling distribution is centered at the population mean.)\n",
    "2. Increasing the size of the sample decreases the spread (variability) of the sampling distribution.\n",
    "3. The distribution of the sample mean is roughly bell-shaped."
   ]
  },
  {
   "cell_type": "markdown",
   "id": "f126cab3-d17e-4bf0-8ae5-4902524030e1",
   "metadata": {},
   "source": [
    "## Bootstrapping"
   ]
  },
  {
   "cell_type": "markdown",
   "id": "b5e04b53-62f1-4e00-94f1-6ceedfed5944",
   "metadata": {},
   "source": [
    "In real life, we usually only have access to one sample from the population. Therefore, we cannot construct the sampling distribution from the previous section. However, we can try to approximate the sampling distribution. We discuss ***interval estimation*** and construct ***confidence intervals*** using just a single sample from a population.\n",
    "\n",
    "When you take a large enough sample from the population, it *looks* like the population. So, by taking many samples from our single sample (***bootstrapping***), we can get an approximation fo the true sampling distribution, the ***bootstrap distribution***.\n",
    "\n",
    "***NOTE:*** We must sample ***WITH REPLACEMENT***. If we had a sample of size $n$ and obtained a sample from it of size $n$ *without* replacement, it will just return our original sample."
   ]
  },
  {
   "cell_type": "markdown",
   "id": "e3e9a039-40a9-4071-8bc5-afb6a51d2eed",
   "metadata": {},
   "source": [
    "### Processs"
   ]
  },
  {
   "cell_type": "markdown",
   "id": "d424ac30-833e-40af-bcd8-1ede77d7b1f3",
   "metadata": {},
   "source": [
    "$n$ is equivalent is the number of observations in the original sample.\n",
    "\n",
    "***EACH BOOTSTRAP SAMPLE has the same number of observations as the original sample***\n",
    "\n",
    "1. Randomly select an observation from the original sample, which was drawn from the population.\n",
    "2. Record the observation’s value.\n",
    "3. Replace that observation.\n",
    "4. Repeat steps 1–3 (sampling with replacement) until you have $n$ observations, which form a bootstrap sample. \n",
    "5. Calculate the bootstrap point estimate (e.g., mean, median, proportion, slope, etc.) of the $n$ observations in your bootstrap sample.\n",
    "6. Repeat steps 1–5 many times to create a distribution of point estimates (the bootstrap distribution).\n",
    "7. Calculate the plausible range of values around our observed point estimate.\n",
    "\n",
    "<img src=\"media/bootstrapping_process.png\" width=\"400px\">"
   ]
  },
  {
   "cell_type": "markdown",
   "id": "5143567b-7f07-45ec-a1c1-ac8cb9685907",
   "metadata": {},
   "source": [
    "Getting the original sample:\n",
    "```r\n",
    "one_sample <- airbnb |>\n",
    "              rep_sample_n(40)\n",
    "```\n",
    "\n",
    "Doing steps 1-3 listed above to generate a single boostrap sample in R. (Here, we take 20,000 botstrap samples from the original sample)\n",
    "```r\n",
    "boot20000 <- one_sample |>\n",
    "             rep_sample_n(size = 40, replace = TRUE, reps = 20000)\n",
    "```\n",
    "\n",
    "Let's see the histograms fo the first six replicates of our bootstrap samples.\n",
    "```r\n",
    "six_bootstrap_samples <- boot20000 |>\n",
    "                         filter(replicate <= 6)\n",
    "\n",
    "ggplot(six_bootstrap_samples, aes(price)) +\n",
    "    geom_histogram(fill = \"dodgerblue3\", color = \"lightgrey\") +\n",
    "    labs(x = \"Price per night (Canadian dollars)\", y = \"Count\") +\n",
    "    facet_wrap(~replicate) +\n",
    "    theme(text = element_text(size = 12))\n",
    "```\n",
    "<img src=\"media/six_bootstrap_samples.png\" width=\"400px\">\n",
    "\n",
    "We can calculate the point estimates for our 20,000 bootstrap samples and generate a bootstrap distribution of our point estimates.\n",
    "```r\n",
    "boot20000_means <- boot20000 %>%\n",
    "                   group_by(replicate) %>%\n",
    "                   summarize(mean = mean(price))\n",
    "\n",
    "boot_est_dist <- ggplot(boot20000_means, aes(x = mean)) +\n",
    "                     geom_histogram(fill = \"dodgerblue3\", color = \"lightgrey\") +\n",
    "                     labs(x = \"Sample mean price per night \\n (Canadian dollars)\", y = \"Count\") +\n",
    "                     theme(text = element_text(size = 12))\n",
    "```\n",
    "\n",
    "Comparing the bootstrap and sampling distribution:\n",
    "\n",
    "<img src=\"media/sampling_bootstrap_dist.png\" width=\"400px\">\n",
    "\n",
    "Notice:\n",
    "1. The shape and spread of the true sampling distribution and the bootstrap distribution are similar; the bootstrap distribution lets us get a sense of the point estimate's variability.\n",
    "2. The means of the two distributions are different. Because we are resampling from the original sample repeatedly, we see that the bootstrap distribution is centered that the original sample's mean value (unlike the sample distribution of the sample mean, which is centered at the population parameter value).\n",
    "\n",
    "Overall:\n",
    "- **Bootstrap(sampling) distribution** estimates the (true) sampling distribution.\n",
    "- **Standard Devation** of the bootstrap dampling distribution estimates the **standard error** of the (true) samplign distribution."
   ]
  },
  {
   "cell_type": "markdown",
   "id": "0be7ec8b-d504-483b-9585-35b027bea5ef",
   "metadata": {},
   "source": [
    "Summary of the bootstrap process:\n",
    "\n",
    "<img src=\"media/bootstrap_process.png\" width=\"400px\">"
   ]
  },
  {
   "cell_type": "markdown",
   "id": "e2033dff-cd5c-4763-86f0-9d63afd7221c",
   "metadata": {},
   "source": [
    "### Calulating a Plausible Range"
   ]
  },
  {
   "cell_type": "markdown",
   "id": "68afea59-4aaa-4526-a95a-418e316c64d5",
   "metadata": {},
   "source": [
    "We will find the range of values covering the middle 95% of the bootstrap distribution, giving us a 95% confidence interval. This means that if we took 100 random samples and calculated 100 95% confidence intervals, then about 95% of the ranges would capture the population parameter's value.\n",
    "\n",
    "A higher confidence level corresponds to a wider range of the interval and a lower confidence level corresponds to a narrower range. Therfore the level we choose is based on what chance we are willing to take of being wrong.\n",
    "\n",
    "To calculate a 95% percentile bootstrap confidence interval, we will do the following:\n",
    "1. Arrange the observations in the bootstrap distribution in ascending order.\n",
    "2. Find the value such that 2.5% of observations fall below it (the 2.5% percentile). Use that value as the lower bound of the interval.\n",
    "3. Find the value such that 97.5% of observations fall above it (the 97.5% percentile). Use that value as the upper bound of the interval.\n",
    "\n",
    "The ```quantile()``` function would handle everything for us.\n",
    "```r\n",
    "bounds <- boot20000_means %>%\n",
    "          select(mean) %>%\n",
    "          pull() %>%\n",
    "          quantile(c(0.025, 0.975))\n",
    "```\n",
    "\n",
    "<img src=\"media/c_interval.png\" width=\"400px\">\n",
    "\n",
    "Our interval, 119.28 to 203.63 captures the middle 95% of the sample mean prices in the bootstrap distribution.\n",
    "\n",
    "We can, then, report:\n",
    "\n",
    "\"Here the sample mean price per night of 40 Airbnb listings was $155.8 and we are 95% \"confident\" that the true population mean price per night for all Airbnb listings in Vancouver is between 119.28 and 203.63.\"\n",
    "\n",
    "> \"The sample mean ___ of (number of samples) was ___ and we are ___ confident that the true population mean ___ of ___ is between (confidence interval).\""
   ]
  },
  {
   "cell_type": "code",
   "execution_count": null,
   "id": "080ea041-124a-4862-a661-12811debe9be",
   "metadata": {},
   "outputs": [],
   "source": []
  }
 ],
 "metadata": {
  "kernelspec": {
   "display_name": "R",
   "language": "R",
   "name": "ir"
  },
  "language_info": {
   "name": ""
  }
 },
 "nbformat": 4,
 "nbformat_minor": 5
}
