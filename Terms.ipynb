{
 "cells": [
  {
   "cell_type": "markdown",
   "id": "0c8ec116-efab-4835-926e-85b9019e1d79",
   "metadata": {},
   "source": [
    "# Terms"
   ]
  },
  {
   "cell_type": "markdown",
   "id": "570eeb90-d7fb-4ec9-af72-d74680815bc6",
   "metadata": {},
   "source": [
    "- **Observations**: Each row in a spreadsheet (all of the measurements for a given entity).\n",
    "- **Variables**: Each column in a spreadsheet (characteristic, number, or quantity that can be measured).\n",
    "- **Value**: A single measurement of a single variable for a given entity.\n",
    "- **List/Vector**: How R stores the columns of a data frame."
   ]
  },
  {
   "cell_type": "markdown",
   "id": "10c69f78-decc-4946-9236-36ea5fad2e25",
   "metadata": {},
   "source": [
    "<img src=\"media/data_type_table.png\" width=\"500\">"
   ]
  },
  {
   "cell_type": "markdown",
   "id": "038201e4-09ca-4e68-a67e-daf0825fd08a",
   "metadata": {},
   "source": [
    "<div>\n",
    "    <img src=\"media/variable-observation.png\" width=\"220px\">\n",
    "    <img src=\"media/vector.png\" width=\"220px\">\n",
    "</div>"
   ]
  },
  {
   "cell_type": "markdown",
   "id": "0bf1cccb-0f43-4a4f-b1bf-ba12c259668a",
   "metadata": {},
   "source": [
    "## Vectors vs Lists"
   ]
  },
  {
   "cell_type": "markdown",
   "id": "559058cc-33a4-4835-94a0-c584bfe43754",
   "metadata": {},
   "source": [
    "**Vectors** are objects that can contain one or more eleemtns. The vector elements are ordered and they must all be of the same **data type**. <br>\n",
    "**Lists** objects in R that have multiple, ordred elements; however, they do not have the same type consistency."
   ]
  },
  {
   "cell_type": "markdown",
   "id": "fe189afa-261d-46bc-856f-659e84c51fe1",
   "metadata": {},
   "source": [
    "<div>\n",
    "    <img src=\"media/ordered_vector.png\" width=\"220px\">\n",
    "    <img src=\"media/vectorvslist.png\" width=\"400px\">\n",
    "</div>"
   ]
  },
  {
   "cell_type": "markdown",
   "id": "20a8e119-4582-43b7-ae17-e9126e6a2c2b",
   "metadata": {},
   "source": [
    "***NOTE:*** lists can also store data frames, plots, and vectors together."
   ]
  },
  {
   "cell_type": "markdown",
   "id": "03fb406a-dcce-4bba-b1c0-551af4e4b705",
   "metadata": {},
   "source": [
    "## Data Frames"
   ]
  },
  {
   "cell_type": "markdown",
   "id": "772efd43-2302-46c9-ba7e-925525fc6ba8",
   "metadata": {},
   "source": [
    "<div style=\"display: flex; flex-direction: row; align-items:flex-start;\">\n",
    "    <div style=\"width: 400px;\">\n",
    "        1. Each element itself must either be a vector or a list. <br>\n",
    "        2. Each element (vector or list) must have the same length.\n",
    "    </div>\n",
    "    <img src=\"media/dataframe.png\" style=\"width:200px; margin-left: 20px;\"> \n",
    "</div>\n",
    "\n"
   ]
  },
  {
   "cell_type": "markdown",
   "id": "e3df9045-0b80-4e84-8a88-e7f7bdb24171",
   "metadata": {},
   "source": [
    "Note, you can use the function ```class``` on a data object to see whether a data frame is a built-in R data frame or a tibble."
   ]
  },
  {
   "cell_type": "markdown",
   "id": "09fc8640-cd4d-4d5e-8a94-1ccfdbce4a21",
   "metadata": {},
   "source": []
  }
 ],
 "metadata": {
  "kernelspec": {
   "display_name": "R",
   "language": "R",
   "name": "ir"
  },
  "language_info": {
   "codemirror_mode": "r",
   "file_extension": ".r",
   "mimetype": "text/x-r-source",
   "name": "R",
   "pygments_lexer": "r",
   "version": "3.6.1"
  }
 },
 "nbformat": 4,
 "nbformat_minor": 5
}
