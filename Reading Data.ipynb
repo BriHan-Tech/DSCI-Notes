{
 "cells": [
  {
   "cell_type": "markdown",
   "id": "2497d737-50d5-4323-a2a6-07d0a1b76671",
   "metadata": {},
   "source": [
    "# Reading Data"
   ]
  },
  {
   "cell_type": "markdown",
   "id": "36244860-22b4-4f29-9234-7ec490a397f8",
   "metadata": {},
   "source": [
    "## Important packages"
   ]
  },
  {
   "cell_type": "markdown",
   "id": "a8d6273e-6dad-49fe-8144-6ceb02e032e3",
   "metadata": {},
   "source": [
    "- ```readxl```: provides ```read_excel()``` function.\n",
    "- ```DBI```: provides ```dbConnect()``` and ```dbListTables()```\n",
    "- ```dbplyr```\n",
    "    - Provides ```tbl()``` function to create a reference to a databases table that is queriable.\n",
    "    - Provides ```collect()``` function to retrieve data from a database query and bring it into R.\n",
    "- ```RPostgres```: allows us to work on PostgreSQL databases"
   ]
  },
  {
   "cell_type": "markdown",
   "id": "c2608dd7-8989-4446-b243-12d20486a755",
   "metadata": {},
   "source": [
    "## read_*"
   ]
  },
  {
   "cell_type": "markdown",
   "id": "1d7db680-3612-4d6e-a679-12d4ab2c0fb2",
   "metadata": {},
   "source": [
    "- ```read_csv``` - Read comma-separated files\n",
    "- ```read_tsv``` - Read tab-separated files\n",
    "- ```read_csv2``` - Read (semi-colon) comma-separated files (for countries that use a comma as decimal point and a semicolon as field separator)\n",
    "- ```read_delim``` - Import both comma and tab-separated files (and more). We just have to specify the delimeter. (```read_delim(\"file\", delim=\"\\t\")```)\n",
    "- ```read_excel``` - Read excel files"
   ]
  },
  {
   "cell_type": "markdown",
   "id": "c2954569-427d-42f9-8fd9-3067fe19791b",
   "metadata": {},
   "source": [
    "Ex. <br>\n",
    "```read_delim(\"data/...\", delim = \"...\", skip = ..., col_names = TRUE)```"
   ]
  },
  {
   "cell_type": "markdown",
   "id": "9e2fed65-79ec-4c6e-aa2d-30b53b51cce2",
   "metadata": {},
   "source": [
    "NOTE: You can directly put a url into read_csv."
   ]
  },
  {
   "cell_type": "markdown",
   "id": "75594e3b-10ec-43f6-b633-e02a30328cf9",
   "metadata": {},
   "source": [
    "## read_* Arguments"
   ]
  },
  {
   "cell_type": "markdown",
   "id": "7680ebc9-abae-4a7a-8bb3-9d785f551738",
   "metadata": {},
   "source": [
    "- ```file``` - Specifies which file we are reading the data from.\n",
    "- ```delim``` - Specifies what separates the Variables.\n",
    "- ```col_names``` - Specifies whether there are column names to assign or not (default is TRUE).\n",
    "- ```skip``` - Allows you to skip rows when reading the data."
   ]
  },
  {
   "cell_type": "markdown",
   "id": "ea5f44b1-6815-4b3d-81e2-f5fd2a129a61",
   "metadata": {},
   "source": [
    "NOTE: Absolute paths ***always starts with ```/```***."
   ]
  },
  {
   "cell_type": "markdown",
   "id": "0e9d5d97-50bb-4e63-b5a9-f59afe71c975",
   "metadata": {},
   "source": [
    "## Opening URL with ```read_excel(...)``` package"
   ]
  },
  {
   "cell_type": "markdown",
   "id": "a848b6ae-bd7b-4459-8203-8d6c45b6fc29",
   "metadata": {},
   "source": [
    "```r\n",
    "library(readxl)\n",
    "\n",
    "download.file(\"url\", destfile = \"data/Test.xls\")\n",
    "df <- read_excel(path = \"data/Test.xls\", sheet = 1)\n",
    "colnames(df) <- make.names(colnames(df))\n",
    "```"
   ]
  },
  {
   "cell_type": "markdown",
   "id": "ce17b02a-03f3-448a-bd8d-bf0d204dbb99",
   "metadata": {},
   "source": [
    "1. ```download.file()``` downloads the file and writes it to disk.\n",
    "2. ```read_excel()``` reads that saved Excel file into R.\n",
    "3. ```make.names()``` replaces all spaces with a . so that you can operate on the columns."
   ]
  },
  {
   "cell_type": "markdown",
   "id": "f43d7e62-e2f3-465b-bcf8-c64046149b39",
   "metadata": {},
   "source": [
    "## Other useful Arguments"
   ]
  },
  {
   "cell_type": "markdown",
   "id": "e69370b1-742a-4543-aa6d-2c73d73972cf",
   "metadata": {},
   "source": [
    "```rename(dataframe, new_name = orig_name)``` - Allows you to rename columns."
   ]
  },
  {
   "cell_type": "markdown",
   "id": "59df2d43-eb26-4f5d-ac0a-b04bc31add34",
   "metadata": {},
   "source": [
    "## Reading Data from a database"
   ]
  },
  {
   "cell_type": "code",
   "execution_count": null,
   "id": "01b85666-008d-4b02-a998-a2cbe3d6c210",
   "metadata": {},
   "outputs": [],
   "source": [
    "# Step 1 - Use DBI library\n",
    "library(tidyverse)\n",
    "library(DBI)\n",
    "library(dbplyr)\n",
    "\n",
    "# Step 2 - Use 'dbConnect'\n",
    "conn_lang_data <- dbConnect(RSQLite::SQLite(), \"data/can_lang.db\")\n",
    "\n",
    "# Step 3 - See a list of all the tables in the database.\n",
    "tables <- dbListTables(conn_lang_data)\n",
    "\n",
    "# Step 4 - Select a certain table and use it like a dataframe.\n",
    "lang_db <- tbl(conn_lang_data, \"lang\")\n",
    "\n",
    "# ---- You can use lang_db like a dataframe with filter, select, operations ----"
   ]
  },
  {
   "cell_type": "code",
   "execution_count": null,
   "id": "5d5a40ed-91b8-4e00-9c7b-df14b586a275",
   "metadata": {},
   "outputs": [],
   "source": [
    "# You can use collect to actually collect the data\n",
    "lang_data <- collect(lang_db)\n",
    "\n",
    "# ------------------------------------------------\n",
    "# The following is not able to be ran on SQL. You NEED to\n",
    "# collect before using any of these.\n",
    "# ------------------------------------------------\n",
    "\n",
    "# You can use nrow to count the rows in a dataframe.\n",
    "nrow(lang_data)\n",
    "\n",
    "# You can use tail to preview the last six rows of a data frame.\n",
    "tail(lang_data)\n",
    "\n",
    "# You can use min/max to find the minimum rating in a column.\n",
    "max(lang_data$col)\n",
    "min(lang_data$col2)"
   ]
  },
  {
   "cell_type": "markdown",
   "id": "dc450411-1c72-41af-908d-acd1dc0a4950",
   "metadata": {},
   "source": [
    "Note, because databases are more efficient in doing operations to data, R lazily loads the data:\n",
    "<div>\n",
    "    <img src=\"media/tibble object.png\" style=\"width: 300px\">\n",
    "    <img src=\"media/reference to data in database.png\" style=\"width: 300px\">\n",
    "</div>"
   ]
  },
  {
   "cell_type": "markdown",
   "id": "1f43c229-59b6-49a9-8a93-965c62a03c80",
   "metadata": {},
   "source": [
    "## Reading Data from PostgreSQL"
   ]
  },
  {
   "cell_type": "code",
   "execution_count": null,
   "id": "f5a5f81e-0497-4786-bdb8-ff9729399a18",
   "metadata": {},
   "outputs": [],
   "source": [
    "library(RPostgres)\n",
    "conn_mov_data <- dbConnect(RPostgres::Postgres(), dbname = \"can_mov_db\",\n",
    "                        host = \"fakeserver.stat.ubc.ca\", port = 5432,\n",
    "                        user = \"user0001\", password = \"abc123\")"
   ]
  },
  {
   "cell_type": "markdown",
   "id": "f04c74e0-e849-45e7-acc8-634b37d83d73",
   "metadata": {},
   "source": [
    "## Writing data from R to a ```.csv``` file"
   ]
  },
  {
   "cell_type": "markdown",
   "id": "8e7ded1f-e86a-4ac8-8054-8bdaaebf4593",
   "metadata": {},
   "source": [
    "```write_csv(data, \"file\")```"
   ]
  },
  {
   "cell_type": "markdown",
   "id": "9355917d-37b5-4459-8c58-bd67d51a6e2c",
   "metadata": {},
   "source": [
    "## Other Notes"
   ]
  },
  {
   "cell_type": "markdown",
   "id": "a41a5544-e986-4aeb-a109-98b26bf6a08d",
   "metadata": {},
   "source": [
    "You can use ```show_query``` to see the SQL queries that are sent to the database (```show_query(tbl(conn_lang_data, \"lang\"))```)"
   ]
  }
 ],
 "metadata": {
  "kernelspec": {
   "display_name": "R",
   "language": "R",
   "name": "ir"
  },
  "language_info": {
   "codemirror_mode": "r",
   "file_extension": ".r",
   "mimetype": "text/x-r-source",
   "name": "R",
   "pygments_lexer": "r",
   "version": "3.6.1"
  }
 },
 "nbformat": 4,
 "nbformat_minor": 5
}
