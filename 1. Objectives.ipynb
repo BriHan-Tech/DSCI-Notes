{
 "cells": [
  {
   "cell_type": "markdown",
   "id": "7576526b-4e6c-4143-84bc-2f213c240ae4",
   "metadata": {},
   "source": [
    "# Objectives"
   ]
  },
  {
   "cell_type": "markdown",
   "id": "40ce02c4-730b-4a58-af6d-25742eb9e93f",
   "metadata": {},
   "source": [
    "## High Level Objectives"
   ]
  },
  {
   "cell_type": "markdown",
   "id": "7c8c3457-937c-4509-92b0-b948e61acb76",
   "metadata": {},
   "source": [
    "### Problems we focus on"
   ]
  },
  {
   "cell_type": "markdown",
   "id": "149c11ae-9e56-4711-8278-59346ceddf01",
   "metadata": {},
   "source": [
    "- Predict a class/category for a new observation/measurement\n",
    "- Predicting a value for a new observation/measurement\n",
    "- Finding previous unkonwn/unlabelled subgroups in your data\n",
    "- Estimating an average or a proportion from a representatitve sample (group of people or units) and using that estimate to generalize to the broader population (e.g. the proportion of undergraduate students that own an iphone)"
   ]
  },
  {
   "cell_type": "markdown",
   "id": "0f3ef948-74b5-4c3a-89e1-612eb6eee8cf",
   "metadata": {},
   "source": [
    "### Types of Questions"
   ]
  },
  {
   "cell_type": "markdown",
   "id": "8ba01ff5-4043-4819-b2ef-9e9bcb631054",
   "metadata": {},
   "source": [
    "| Question Type | Description | Example |\n",
    "|:-------------:|:-----------:|:-------:|\n",
    "| Descriptive | A question that asks about summarized characteristics of a data set without interpretation (i.e., report a fact). | How many people live in each province and territory in Canada? |\n",
    "| Exploratory | A question that asks if there are patterns, trends, or relationships within a single data set. Often used to propose hypotheses for future study. | Does political party voting change with indicators of wealth in a set of data collected on 2,000 people living in Canada? |\n",
    "| Predictive | A question that asks about predicting measurements or labels for individuals (people or things). The focus is on what things predict some outcome, but not what causes the outcome. | What political party will someone vote for in the next Canadian election? |\n",
    "| Inferential | A question that looks for patterns, trends, or relationships in a single data set and also asks for quantification of how applicable these findings are to the wider population. | Does political party voting change with indicators of wealth for all people living in Canada? |\n",
    "| Causal | A question that asks about whether changing one factor will lead to a change in another factor, on average, in the wider population. | Does wealth lead to voting for a certain political party in Canadian elections? | \n",
    "| Mechanistic | A question that asks about the underlying mechanism of the observed patterns, trends, or relationships (i.e., how does it happen?) | How does wealth lead to voting for a certain political party in Canadian elections?"
   ]
  },
  {
   "cell_type": "markdown",
   "id": "bf499f1a-99cb-4ab0-b986-7d254dbe6277",
   "metadata": {},
   "source": [
    "### Types of Answers"
   ]
  },
  {
   "cell_type": "markdown",
   "id": "4da0537c-8071-4131-b255-a6da3ea1d852",
   "metadata": {},
   "source": [
    "1. **Summarization:** Computing and reporting aggregated values pertaining to a data set. Summarization is most often used to answer descriptive questions, and can occasionally help with answering exploratory questions.\n",
    "2. **Visualization:** Plotting data graphically. Visualization is typically used to answer descriptive and exploratory questions, but plays a critical supporting role in answering all of the types of questions above\n",
    "3. **Classification:** Predicting a class or category for a new observation. Classification is used to answer predictive questions.\n",
    "4. **Regression:** Predicting a quantitative value for a new observation. Regression is also used to answer predictive questions.\n",
    "5. **Clustering:** Finding previously unknown/unlabeled subgroups in a data set. Clustering is often used to answer exploratory questions.\n",
    "6. **Estimation:** Taking measurements for a small number of items from a large group and making a good guess for the average or proportion for the large group. Estimation is used to answer inferential questions."
   ]
  },
  {
   "cell_type": "markdown",
   "id": "f9ee351d-9826-4a4f-8f99-c56b46bf09d7",
   "metadata": {},
   "source": [
    "## Basic functions used in DS"
   ]
  },
  {
   "cell_type": "markdown",
   "id": "9fb92fd2-1914-4113-b5e0-698899abc65e",
   "metadata": {},
   "source": [
    "- ```install.packages(\"package_name\")``` is used to install packages.\n",
    "\n",
    "- ```library(package_name)``` load packages into your workspace.\n",
    "\n",
    "- ```nrow(data_frame)``` Computes total number of rows in a data frame.\n",
    "\n",
    "- ```ncol(data_frame)``` Computes total number of columns in a data frame.\n",
    "\n",
    "- Insert ```?``` below the name of function you want help with and R will provide you with its documentation. <br>\n",
    "    ```?read_csv```"
   ]
  },
  {
   "cell_type": "markdown",
   "id": "9f56a461-3183-43b9-bbad-02aca8cc9826",
   "metadata": {},
   "source": [
    "## Other functions"
   ]
  },
  {
   "cell_type": "markdown",
   "id": "e1f81e14-4b93-4094-9038-aea781dc4eda",
   "metadata": {},
   "source": [
    "- ```toupper()```\n",
    "- ```tolower()```\n",
    "- ```print()``` or ```print(..., n = ...)```"
   ]
  },
  {
   "cell_type": "markdown",
   "id": "fa7adb96-06ef-4690-bed1-399e29f4c238",
   "metadata": {},
   "source": [
    "## Creating subsets of Data"
   ]
  },
  {
   "cell_type": "markdown",
   "id": "7b6f32ec-d138-4d12-87e0-80c78b0ffbfd",
   "metadata": {},
   "source": [
    "- ```filter``` can be used to obtain the subset of rows with desired values from a data frame. <br>```var <- filter(orig, observation == \"value\")```\n",
    "\n",
    "- ```is.na(...)``` If the value is NA, it returns TRUE, otherwise it returns False. <br>\n",
    "  You can use ```!is.na()``` to filter out rows that have missing values.\n",
    "\n",
    "- ```select``` can be used to extract the columns from a data frame. <br> ```var <- select(orig, col1, col2)```\n",
    "\n",
    "- ```arrange``` can allow us to order the rows of a data frame by the values of a particular column. <br> \n",
    "  ```var <- arrange(dataframe, col_name)``` Takes column names as input and orders the rows in ascending order <br>\n",
    "  ```var <- arrange(orig, by = desc(col))``` Takes column names as input and orders the rows in descending order<br>\n",
    "\n",
    "- ```slice``` selects rows according to their row number. <br> ```var <- slice(orig, 1:10)```\n",
    "\n",
    "- ```mutate``` adds a new variable to a data frame as a function of the old columns. <br> ```var <- mutate(orig, new_col = col1/col2)```\n",
    "\n",
    "- ```head(n = ...)``` Returns the n first rows data frame.\n",
    "\n",
    "- ```tail(n = ...)``` Returns the n last rows of a data frame."
   ]
  },
  {
   "cell_type": "code",
   "execution_count": null,
   "id": "3014e5b5-5f37-4e80-82cc-5b81fd21c922",
   "metadata": {},
   "outputs": [],
   "source": []
  }
 ],
 "metadata": {
  "kernelspec": {
   "display_name": "R",
   "language": "R",
   "name": "ir"
  },
  "language_info": {
   "codemirror_mode": "r",
   "file_extension": ".r",
   "mimetype": "text/x-r-source",
   "name": "R",
   "pygments_lexer": "r",
   "version": "3.6.1"
  }
 },
 "nbformat": 4,
 "nbformat_minor": 5
}
