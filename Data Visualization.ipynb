{
 "cells": [
  {
   "cell_type": "markdown",
   "id": "c41d2977-6230-455f-af0a-2edb43817110",
   "metadata": {},
   "source": [
    "# Data Visualization"
   ]
  },
  {
   "cell_type": "markdown",
   "id": "893215e9-302b-4468-90a3-01555b4c2dfe",
   "metadata": {},
   "source": [
    "## Important Packages"
   ]
  },
  {
   "cell_type": "markdown",
   "id": "a305b434-70a6-4939-820c-0564c6a713c8",
   "metadata": {},
   "source": [
    "- ```ggplot2```\n",
    "    - Part of the ```tidyverse``` metapackage.\n",
    "    - Creates all sorts of visualizations fo data.\n",
    "- ```RColorBrewer```\n",
    "    - Provides ability to pick custom colour schemes\n",
    "- ```lubridate```\n",
    "    - Part of the ```tidyverse``` metapackage (still need to load package individually)\n",
    "    - Convert character strings to date vectors."
   ]
  },
  {
   "cell_type": "markdown",
   "id": "8c3d9025-20c2-4086-b2eb-714c5fd1bee0",
   "metadata": {},
   "source": [
    "## Choosing the Visualization"
   ]
  },
  {
   "cell_type": "markdown",
   "id": "189ac9f9-e933-443d-92ed-d3a370a5ce5a",
   "metadata": {},
   "source": [
    "<div style=\"display: flex; flex-direction: row; align-items:flex-start;\">\n",
    "    <div style=\"width: 500px;\">\n",
    "        <ul>\n",
    "            <li><b>Scatter Plots</b> visualize the relationship between two quantitative variables.</li>\n",
    "            <li><b>Line Plots</b> visualize trends with respect to an independent, ordered quantity (e.g. time)</li>\n",
    "            <li><b>Bar Plots</b> visualize comparisons of amounts</li>\n",
    "            <li><b>Histograms</b> visualize the distribtuion fo one quantitative varibale (ie. all its possible values and how often they occur.)</li>\n",
    "        </ul>\n",
    "    </div>\n",
    "    <img src=\"media/choosing_visualization.png\" style=\"width:200px; margin-left: 50px;\"> \n",
    "</div>"
   ]
  },
  {
   "cell_type": "markdown",
   "id": "556810ec-1fbc-4741-ad80-a2de11458fbf",
   "metadata": {},
   "source": [
    "***AVOID PIE CHARTS***, use bar graphs instead, as it is easier to compare bar heights than pie slice sizes.\n",
    "\n",
    "***DON'T USE 3-D VISUALIZATIONS***, they are hard to understand when converted to a static 2-D image format.\n",
    "\n",
    "***USE LINE PLOT*** when your data includes non-numeric (categorical) data. (Notably, year is a categorical variable.)"
   ]
  },
  {
   "cell_type": "markdown",
   "id": "c45e35a0-376b-4e06-917b-99147a899dc7",
   "metadata": {},
   "source": [
    "## Refining the Visualization"
   ]
  },
  {
   "cell_type": "markdown",
   "id": "73316722-c99a-4807-9fe1-694f0d99526d",
   "metadata": {},
   "source": [
    "### Convey the Message"
   ]
  },
  {
   "cell_type": "markdown",
   "id": "9c6c6096-11ec-4b60-b2ea-d554b5939034",
   "metadata": {},
   "source": [
    "- Make the visualization answer the question you have asked most simply and plainly as possible.\n",
    "- Use legends and labels so that your visualization is understandable without reading the surrounding text.\n",
    "- Ensure the text, symbols, lines, etc., on your visualization are big enough to be easily read.\n",
    "- Ensure the data are clearly visible; don't hide the shape/distribtuion fo the data behind other objects (e.g., a bar).\n",
    "- Make sure to use color schemes that are understandable by those with colorblindness.\n",
    "- Redundancy can be helpful; sometimes conveying the same message in multiple ways reinforces it for the audience."
   ]
  },
  {
   "cell_type": "markdown",
   "id": "6b053e8e-59bb-4105-8d4c-dc752f28f141",
   "metadata": {},
   "source": [
    "### Minimize Noise"
   ]
  },
  {
   "cell_type": "markdown",
   "id": "e5499c5a-e602-4aa9-8aac-00a116722460",
   "metadata": {},
   "source": [
    "- Use colors sparingly. Too many colors can be distracting, create false patterns, and detract formt he message.\n",
    "- Be wary of overplotting. Overplotting is when marks that represent the data overlap, and is problematic as it prevents you from seeing how many data points are represented in areas of the viisualization where this occurs. If your plot has too may dots or lines and starts to look like a mess, you neeed to do something different.\n",
    "- Only make the plot area (where the dots, lines, bars are) as big as needed. Simple plots can be made small.\n",
    "- Don't adjust the axes to zoom in on small differences. If the difference is small, show that it's small!"
   ]
  },
  {
   "cell_type": "markdown",
   "id": "3d62c724-aff2-461c-91c9-a7e1fe251c6e",
   "metadata": {},
   "source": [
    "## Creating visualizations with ```ggplot2```"
   ]
  },
  {
   "cell_type": "markdown",
   "id": "92b2ace3-8d14-4adb-bbb9-f2837e13c867",
   "metadata": {},
   "source": [
    "<img src=\"media/visualizations_ggplot2.png\" width=\"500px;\">"
   ]
  },
  {
   "cell_type": "markdown",
   "id": "d4fb54ba-2c6f-4861-b07a-5ad9b85d7e87",
   "metadata": {},
   "source": [
    "- The **aesthetic mapping**, which tells ```ggplot``` how the columns in the data frame map to the properties of the visualization.\n",
    "    - To create an aesthetic mapping, we use the ```aes``` function.\n",
    "    - Here, we set ```x``` to ```date_measured``` and ```y``` to ```ppm```.\n",
    "    - ```x```, ```y```, ```fill```, ```colour```, ```shape```\n",
    "- The **geometric object** specifies how the mapped data should be displayed.\n",
    "    - We use a ```geom_*``` function to create a geometric object.\n",
    "    - In this case we use ```geom_point```\n",
    "    - ```geom_point()```, ```geom_line()```, ```geom_histogram()```, ```geom_bar()```, ```geom_vline()```, ```geom_hline()```"
   ]
  },
  {
   "cell_type": "markdown",
   "id": "5399ceb5-71e9-4468-aacf-81f3ea2c7e39",
   "metadata": {},
   "source": [
    "- ```scale_x_continuous()```, ```scale_y_continuous```\n",
    "    - Argument: ```breaks``` set the axis to only have ticks in break.\n",
    "        - E.g. ```ggplot + scale_x_continuous(breaks = c(2, 5))```, this means that the x axis would only have the values 2, and 5. 1, 3, 4 would be gone.\n",
    "        - E.g. ```ggplot + scale_x_continuous(breaks = seq(1, 6, 0.33)```, this means that the x axis would span from 1 to 6, with numbers like: 1.33, 1.66, 1.99, and so on.\n",
    "- ```options(repr.plot.width = ..., repr.plot.height = ...)```\n",
    "    - Put this line at the start of code block.\n",
    "    - ```width = 9```, ```height = 7``` works on a 13-inch display."
   ]
  },
  {
   "cell_type": "markdown",
   "id": "2a4e9c05-2f82-4e9f-b1e4-c058edeeb7e0",
   "metadata": {},
   "source": [
    "### Visualizing Oscillations"
   ]
  },
  {
   "cell_type": "markdown",
   "id": "c7a0b244-3bd1-4052-938d-d95d3ede9fda",
   "metadata": {},
   "source": [
    "Given the following graph:\n",
    "\n",
    "<img src=\"media/visualizing_oscillations1.png\" width=\"400px;\">\n",
    "\n",
    "We can better understand the oscillation by changing the visualization slightly. We can do this by using *scales*. We scale the horizontal axis using the ```xlim``` function, and the vertical axis with the ```ylim``` function.\n",
    "\n",
    "Here, we will be using the ```xlim``` function to zoom in on just 5 years of the data.\n",
    "\n",
    "<img src=\"media/visualizing_oscillations2.png\" width=\"400px;\">\n",
    "\n",
    "***NOTE:*** ```lubricate``` is a package that is installed by the ```tidyverse``` metapackage, but is not loaded by it."
   ]
  },
  {
   "cell_type": "markdown",
   "id": "45323af4-f1a4-421d-9631-285cf1fe17cb",
   "metadata": {},
   "source": [
    "### Axis transformation and colored scatter plots"
   ]
  },
  {
   "cell_type": "markdown",
   "id": "ac2b6bcc-6a03-47c6-a3cd-aa22a2f25510",
   "metadata": {},
   "source": [
    "#### Transform Axis Logarithmically"
   ]
  },
  {
   "cell_type": "markdown",
   "id": "f7c34ffd-99da-4a45-bf64-f6f7b3907678",
   "metadata": {},
   "source": [
    "When dealing with data that take both *very large* and *very small* values,you can adjust the horizontal and vertical axis so that they are on a **logarithmic** (or log) scale.\n",
    "\n",
    "We can accomplish logarithmic scaling in a ```ggplot``` using the ```scale_x_log10``` and ```scale_y_log10``` functions.\n",
    "\n",
    "<img src=\"media/log_scaling.png\" width=\"400px;\">"
   ]
  },
  {
   "cell_type": "markdown",
   "id": "7e3699af-4ab5-46dc-943e-cb9e2eb95a76",
   "metadata": {},
   "source": [
    "#### Add colors and shapes to points"
   ]
  },
  {
   "cell_type": "markdown",
   "id": "60e04e5d-43bb-4823-947c-41b18d88a2ba",
   "metadata": {},
   "source": [
    "To distinguish between more categories, we can add colors and shapes by adding arguments to the ```aes``` function.\n",
    "\n",
    "We can then, style the legend by using the ```legend.position``` and ```legend.direction``` arguments of the theme function.\n",
    "\n",
    "<img src=\"media/colors_shapes.png\" width=\"400px\">"
   ]
  },
  {
   "cell_type": "markdown",
   "id": "9076af2a-d8f9-4ae2-a263-96e76d2347f6",
   "metadata": {},
   "source": [
    "***NOTE:*** We can use ```RColorBrewer``` to add color palettes that are colorblind friendly. "
   ]
  },
  {
   "cell_type": "markdown",
   "id": "f18d3df3-dbc4-4f23-b9db-a97057553a82",
   "metadata": {},
   "source": [
    "### Bar Plots"
   ]
  },
  {
   "cell_type": "markdown",
   "id": "78c46fa6-a2d6-49bd-8869-e7f944de98c1",
   "metadata": {},
   "source": [
    "We create bar plots via the ```geom_bar``` function in ```ggplot2```. However, by default, ```geom_bar``` sets the heigh of the bars to tehe number of times a value appears in a data frame; here, we want to plot exactly the values of the data frame, so we have to pass the ```stat = \"identity\"``` argument to ```geom_bar```.\n",
    "\n",
    "<img src=\"media/barplots1.png\" width=\"500px;\">"
   ]
  },
  {
   "cell_type": "markdown",
   "id": "8ea02ade-2a6a-4fd5-9cfb-c6abc45c6822",
   "metadata": {},
   "source": [
    "If we only want to keep the largest land masses, we can use ```slice_max()```:\n",
    "\n",
    "```r\n",
    "islands_top12 <- slice_max(islands_df, order_by = size, n=12)\n",
    "```"
   ]
  },
  {
   "cell_type": "markdown",
   "id": "62b246ec-e3a8-4619-a364-61210644a883",
   "metadata": {},
   "source": [
    "If we want to reorder the bars so that they are ordered in an increasing manner, we can use ```fct_reorder```. (Also note, that by putting the ```fill``` argument in ```labs()```, we can rename the legend.)\n",
    "\n",
    "- First arg: Is the column\n",
    "- Second arg: Criteria"
   ]
  },
  {
   "cell_type": "markdown",
   "id": "c05d9683-4ef3-4515-93ec-2dff2db83480",
   "metadata": {},
   "source": [
    "<img src=\"media/fct_reorder.png\" width=\"400px\">"
   ]
  },
  {
   "cell_type": "markdown",
   "id": "9883c575-da79-4de8-a3ec-fa7a6248bf3f",
   "metadata": {},
   "source": [
    "### Histograms"
   ]
  },
  {
   "cell_type": "markdown",
   "id": "70959ebb-0985-4a35-861a-3c576ffc1d6f",
   "metadata": {},
   "source": [
    "Histogram help us visualzie how a particular variable is distributed in a data set by separating the data into bins, and then using vertical bars to show how many data points fell into each bin."
   ]
  },
  {
   "cell_type": "markdown",
   "id": "233429d4-39e5-49f9-aa2c-6ee6e6856646",
   "metadata": {},
   "source": [
    "To create histograms, we use ```geom_histogram```, setting only the ```x``` axis to the variable we want to analyze.\n",
    "\n",
    "<img src=\"media/histogram1.png\" width=\"400px\">"
   ]
  },
  {
   "cell_type": "markdown",
   "id": "8cdc0cba-059e-4f02-b759-e11af109400e",
   "metadata": {},
   "source": [
    "To show how accurate the values plotted on a histogram really are, we can use ```geom_vline``` to specify, on the x axis, the true value of the variable. Notably, there is a similar ```geom_hline``` that is used form horizontal lines.\n",
    "\n",
    "<img src=\"media/histogram2.png\" width=\"400px\">"
   ]
  },
  {
   "cell_type": "markdown",
   "id": "7cec5edf-09d5-40fd-b5b1-29aeba5fd56f",
   "metadata": {},
   "source": [
    "If we want to separate out the histogram even more, we can use the ```fill``` aesthetic mapping. We need to use ```as_factor()``` to turn the variable into a factor before using it in the ```fill```. And, to make sure that the colors can be seen, we can set the ```alpha``` argument in ```geom_histogram``` to ```0.5``` for it to be slightly translucent. We also add ```position = \"identity\"``` in ```geom_histogram``` to ensure the histograms for each experiment will be overlaid side-by-side instead of stacked bars (which is the default for bar plots or histograms when they are colored by another categorical variable.)\n",
    "\n",
    "<img src=\"media/histogram3.png\" width=\"400px\">"
   ]
  },
  {
   "cell_type": "markdown",
   "id": "8c8b0041-72d2-47aa-b20f-a81e64d908b0",
   "metadata": {},
   "source": [
    "#### Choosing a binwidth for histograms"
   ]
  },
  {
   "cell_type": "markdown",
   "id": "f7c965f5-b357-44e7-9879-e83f09901d59",
   "metadata": {},
   "source": [
    "When creating a histogram in R, the default numbers of bins used is 30. You can set the number of bins yourself by using the ```bins``` argument in the ```geom_histogram``` geometric object. You can set the *width* of the bins using the ```binwidth``` argument in the ```geom_histogram``` geometric object."
   ]
  },
  {
   "cell_type": "markdown",
   "id": "2f6b4f3c-57b6-41e9-bb37-c1cde3920ace",
   "metadata": {},
   "source": [
    "<img src=\"media/diff_bins.png\" style=\"width: 400px;\">"
   ]
  },
  {
   "cell_type": "markdown",
   "id": "45ceb120-34b4-4dcd-8b8c-19d89ed4bacd",
   "metadata": {},
   "source": [
    "### Using ```facet_grid```"
   ]
  },
  {
   "cell_type": "markdown",
   "id": "25e4ff9a-e92d-47a0-b419-2dcf43220c5b",
   "metadata": {},
   "source": [
    "```facet_grid``` is used to create a plot that has mutliple subplots arranged in a grid. The argument to ```facet_gird``` specifies the variable(s) used to split the plots into subplots, and how to split them (rows/columns). If the plot is to be split horizontally, into rows, then the ```rows``` argument is used, and if vertically, the ```cols``` argument is used.\n",
    "\n",
    "Note that column names must be surroudned with ```vars()```. This function allows the column names to be correctly evaluated in the context of the data frame."
   ]
  },
  {
   "cell_type": "markdown",
   "id": "4a795dfc-8a45-4666-8aec-33667b40f62a",
   "metadata": {},
   "source": [
    "<img src=\"media/facet_grid1.png\" width=\"400px;\">"
   ]
  },
  {
   "cell_type": "markdown",
   "id": "0d6ecb60-ce96-4215-802c-2eb7a24e7139",
   "metadata": {},
   "source": [
    "## Note on ```fill``` and ```color```"
   ]
  },
  {
   "cell_type": "markdown",
   "id": "c24c2743-851a-4d5b-abd5-6efae0fac645",
   "metadata": {},
   "source": [
    "- ```fill =```\n",
    "    - With ```geom_bar()```/```geom_histogram()``` this aesthetic **fills in the bars** by a specific colour or separates the counts by a variable differnet from the x-axis.\n",
    "- ```color =```\n",
    "    - With ```geom_bar()```/```geom_histogram()``` this aesthetic **outlines the bars** by a specific colour or separates the counts by a variable differnet from the x-axis.\n",
    "    - With ```geom_point()```, it **fills in the points** (colouring them based on a particular (categorical) variable aside from the x/y-axis)"
   ]
  },
  {
   "cell_type": "markdown",
   "id": "45289f58-5a3d-4ab5-83bb-b60a99b22e39",
   "metadata": {
    "tags": []
   },
   "source": [
    "## Describing the Visualization"
   ]
  },
  {
   "cell_type": "markdown",
   "id": "e6890670-5392-4922-93c1-ac517a89a3f6",
   "metadata": {},
   "source": [
    "- **Direction:** positive/negative/little or no relationships\n",
    "- **Strength:** The relationship is strong whent he scatter points are close together and look more like a \"line\" or \"curve\" rather than a \"cloud.\"\n",
    "- **Shape:** Linear/nonlinear"
   ]
  },
  {
   "cell_type": "markdown",
   "id": "7c758d0a-98b7-45e3-aa78-8334c20e22c5",
   "metadata": {},
   "source": [
    "Discuss your visualization as a story:\n",
    "\n",
    "1. Establish the setting and scope, and describe why you did what you did.\n",
    "2. Pose the question that your visualization answers. Justify why the question is important to the answer.\n",
    "3. Answer the question using your visualization. Make sure you describe *all* aspects of the visualization (including describing the axes). But you can emphasize different aspects based on what is important to answer your question:\n",
    "    - **trends (lines)**: Does a line describe the trend well? Is it linear? Is it positive/negative? Is there oscillation? Is it noisy or smooth?\n",
    "    - **distributions (scatters, histograms)**: How spread out is the data? Where are they centered, roughly? Are there obvious clusters' or 'subgroups,' which would be vidsible as multiple bumpsin the hisogram?\n",
    "    - **distributions of two variables (scatters)**: Is there a clear / strong or weak or no relationship?\n",
    "    - **amounts (bars)**: How large are the bars relative to one another? Are there patterns in different groups of bars?\n",
    "4. Summarize ayour findings, and use them to motivate whatever you will discuss next."
   ]
  },
  {
   "cell_type": "markdown",
   "id": "4bc105ef-fb7a-4512-b0cd-7134151a7957",
   "metadata": {},
   "source": [
    "## Saving the visualization"
   ]
  },
  {
   "cell_type": "markdown",
   "id": "209ba99b-d019-427a-aff5-375b41f93690",
   "metadata": {},
   "source": [
    "### Raster Images"
   ]
  },
  {
   "cell_type": "markdown",
   "id": "08b71e68-b1b0-4c38-9766-66336abe65b7",
   "metadata": {},
   "source": [
    "**Raster** images are represented as a 2-D grid of square pixels, and are compressed and lossy.\n",
    "\n",
    "A compressed format is ***lossy*** if the image cannot be perfectly re-created when loading and displaying, wtiht he hope that the change is not noticable. \n",
    "\n",
    "***Lossless formats*** allow a perfect display of the original image."
   ]
  },
  {
   "cell_type": "markdown",
   "id": "a03966e4-3b18-4581-a046-ae4f595a38aa",
   "metadata": {},
   "source": [
    "Common file types:\n",
    "- JPEG (.jpg, .jpeg): lossy, usually used for photographs\n",
    "- PNG (.png): lossless, usually used for plots/line drawings.\n",
    "- BMP (.bmp): losless, raw image data, no compression (rarely used)\n",
    "- TIFF (.tif, .tiff): Typically lossless, no compression, used mostly in graphic arts, publishing.\n"
   ]
  },
  {
   "cell_type": "markdown",
   "id": "6251f977-c676-480f-9947-1a625cd219ab",
   "metadata": {},
   "source": [
    "### Vector Images"
   ]
  },
  {
   "cell_type": "markdown",
   "id": "a6293bb7-f3bf-4f13-98e4-942f385bd56b",
   "metadata": {},
   "source": [
    "- SVG (.svg) general-purpose use\n",
    "- EPS (.eps) general-purpose use (rarrely used)"
   ]
  },
  {
   "cell_type": "markdown",
   "id": "f33a08da-926f-443e-a5cc-f4385aaf36e2",
   "metadata": {},
   "source": [
    "### Saving the plot on images"
   ]
  },
  {
   "cell_type": "markdown",
   "id": "f324da41-d206-4863-a4ad-10c5edf46aa8",
   "metadata": {},
   "source": [
    "```r\n",
    "ggsave(\"img/faithful_plot.png\", faithful_plot)\n",
    "ggsave(\"img/faithful_plot.jpg\", faithful_plot)\n",
    "ggsave(\"img/faithful_plot.bmp\", faithful_plot)\n",
    "ggsave(\"img/faithful_plot.tiff\", faithful_plot)\n",
    "ggsave(\"img/faithful_plot.svg\", faithful_plot)\n",
    "```"
   ]
  },
  {
   "cell_type": "code",
   "execution_count": null,
   "id": "0142c151-9f2c-4e92-877b-98537900252b",
   "metadata": {},
   "outputs": [],
   "source": []
  }
 ],
 "metadata": {
  "kernelspec": {
   "display_name": "R",
   "language": "R",
   "name": "ir"
  },
  "language_info": {
   "codemirror_mode": "r",
   "file_extension": ".r",
   "mimetype": "text/x-r-source",
   "name": "R",
   "pygments_lexer": "r",
   "version": "3.6.1"
  }
 },
 "nbformat": 4,
 "nbformat_minor": 5
}
