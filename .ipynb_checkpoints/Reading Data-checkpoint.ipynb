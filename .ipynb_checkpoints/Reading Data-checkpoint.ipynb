{
 "cells": [
  {
   "cell_type": "markdown",
   "id": "2497d737-50d5-4323-a2a6-07d0a1b76671",
   "metadata": {},
   "source": [
    "# Reading Data"
   ]
  },
  {
   "cell_type": "markdown",
   "id": "c2608dd7-8989-4446-b243-12d20486a755",
   "metadata": {},
   "source": [
    "## read_*"
   ]
  },
  {
   "cell_type": "markdown",
   "id": "1d7db680-3612-4d6e-a679-12d4ab2c0fb2",
   "metadata": {},
   "source": [
    "- ```read_csv``` - Read comma-separated files\n",
    "- ```read_tsb``` - Read tab-separated files\n",
    "- ```read_csv2``` - Read comma-separated files (for countries that use a comma as decimal point and a semicolon as field separator)\n",
    "- ```read_delim``` - Import both comma and tab-separated files (and more). We just have to specify the delimeter. (```read_delim(\"file\", delim=\"\\t\")```)\n",
    "- ```read_excel``` - Read excel files"
   ]
  },
  {
   "cell_type": "markdown",
   "id": "75594e3b-10ec-43f6-b633-e02a30328cf9",
   "metadata": {},
   "source": [
    "## read_* Arguments"
   ]
  },
  {
   "cell_type": "markdown",
   "id": "7680ebc9-abae-4a7a-8bb3-9d785f551738",
   "metadata": {},
   "source": [
    "- ```file``` - Specifies which file we are reading the data from.\n",
    "- ```delim``` - Specifies what separates the Variables.\n",
    "- ```col_names``` - Specifies whether there are column names to assign or not (default is True).\n",
    "- ```skip``` - Allows you to skip rows when reading the data."
   ]
  },
  {
   "cell_type": "markdown",
   "id": "f43d7e62-e2f3-465b-bcf8-c64046149b39",
   "metadata": {},
   "source": [
    "## Other useful Arguments"
   ]
  },
  {
   "cell_type": "markdown",
   "id": "e69370b1-742a-4543-aa6d-2c73d73972cf",
   "metadata": {},
   "source": [
    "```rename(dataframe, new_name = orig_name)``` - Allows you to rename columns."
   ]
  },
  {
   "cell_type": "markdown",
   "id": "59df2d43-eb26-4f5d-ac0a-b04bc31add34",
   "metadata": {},
   "source": [
    "## Reading Data from a database"
   ]
  },
  {
   "cell_type": "code",
   "execution_count": null,
   "id": "01b85666-008d-4b02-a998-a2cbe3d6c210",
   "metadata": {},
   "outputs": [],
   "source": [
    "# Step 1 - Use DBI library\n",
    "library(tidyverse)\n",
    "library(DBI)\n",
    "library(dbplyr)\n",
    "\n",
    "# Step 2 - Use 'dbConnect'\n",
    "conn_lang_data <- dbConnect(RSQLite::SQLite(), \"data/can_lang.db\")\n",
    "\n",
    "# Step 3 - See a list of all the tables in the database.\n",
    "tables <- dbListTables(conn_lang_data)\n",
    "\n",
    "# Step 4 - Select a certain table and use it like a dataframe.\n",
    "lang_db <- tbl(conn_lang_data, \"lang\")\n",
    "\n",
    "# ---- You can use lang_db like a dataframe with filter, select, operations ----"
   ]
  },
  {
   "cell_type": "code",
   "execution_count": null,
   "id": "5d5a40ed-91b8-4e00-9c7b-df14b586a275",
   "metadata": {},
   "outputs": [],
   "source": [
    "# You can use collect to actually collect the data\n",
    "lang_data <- collect(lang_db)\n",
    "\n",
    "# ------------------------------------------------\n",
    "# The following is not able to be ran on SQL. You NEED to\n",
    "# collect before using any of these.\n",
    "# ------------------------------------------------\n",
    "\n",
    "# You can use nrow to count the rows in a dataframe.\n",
    "nrow(lang_data)\n",
    "\n",
    "# You can use tail to preview the last six rows of a data frame.\n",
    "tail(lang_data)\n",
    "\n",
    "# You can use min/max to find the minimum rating in a column.\n",
    "max(lang_data$col)\n",
    "min(lang_data$col2)"
   ]
  },
  {
   "cell_type": "markdown",
   "id": "dc450411-1c72-41af-908d-acd1dc0a4950",
   "metadata": {},
   "source": [
    "Note, because databases are more efficient in doing operations to data, R lazily loads the data:\n",
    "<div>\n",
    "    <img src=\"media/tibble object.png\" style=\"width: 300px\">\n",
    "    <img src=\"media/reference to data in database.png\" style=\"width: 300px\">\n",
    "</div>"
   ]
  },
  {
   "cell_type": "markdown",
   "id": "1f43c229-59b6-49a9-8a93-965c62a03c80",
   "metadata": {},
   "source": [
    "## Reading Data from PostgreSQL"
   ]
  },
  {
   "cell_type": "code",
   "execution_count": null,
   "id": "f5a5f81e-0497-4786-bdb8-ff9729399a18",
   "metadata": {},
   "outputs": [],
   "source": [
    "library(RPostgres)\n",
    "conn_mov_data <- dbConnect(RPostgres::Postgres(), dbname = \"can_mov_db\",\n",
    "                        host = \"fakeserver.stat.ubc.ca\", port = 5432,\n",
    "                        user = \"user0001\", password = \"abc123\")"
   ]
  },
  {
   "cell_type": "markdown",
   "id": "f04c74e0-e849-45e7-acc8-634b37d83d73",
   "metadata": {},
   "source": [
    "## Writing data from R to a ```.csv``` file"
   ]
  },
  {
   "cell_type": "markdown",
   "id": "8e7ded1f-e86a-4ac8-8054-8bdaaebf4593",
   "metadata": {},
   "source": [
    "```write_csv(data, \"file\")```"
   ]
  },
  {
   "cell_type": "markdown",
   "id": "9355917d-37b5-4459-8c58-bd67d51a6e2c",
   "metadata": {},
   "source": [
    "## Other Notes"
   ]
  },
  {
   "cell_type": "markdown",
   "id": "a41a5544-e986-4aeb-a109-98b26bf6a08d",
   "metadata": {},
   "source": [
    "You can use ```show_query``` to see the SQL queries that are sent to the database (```show_query(tbl(conn_lang_data, \"lang\"))```)"
   ]
  }
 ],
 "metadata": {
  "kernelspec": {
   "display_name": "R",
   "language": "R",
   "name": "ir"
  },
  "language_info": {
   "codemirror_mode": "r",
   "file_extension": ".r",
   "mimetype": "text/x-r-source",
   "name": "R",
   "pygments_lexer": "r",
   "version": "3.6.1"
  }
 },
 "nbformat": 4,
 "nbformat_minor": 5
}
